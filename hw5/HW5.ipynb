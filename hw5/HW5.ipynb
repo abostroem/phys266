{
 "cells": [
  {
   "cell_type": "markdown",
   "metadata": {},
   "source": [
    "# Homework 5"
   ]
  },
  {
   "cell_type": "code",
   "execution_count": 1,
   "metadata": {
    "collapsed": false
   },
   "outputs": [],
   "source": [
    "from astropy.io import ascii\n",
    "from astropy.table import Column\n",
    "import os\n",
    "import numpy as np\n",
    "from matplotlib import pyplot\n",
    "%matplotlib inline"
   ]
  },
  {
   "cell_type": "code",
   "execution_count": 2,
   "metadata": {
    "collapsed": true
   },
   "outputs": [],
   "source": [
    "data_dir = '../data/'"
   ]
  },
  {
   "cell_type": "markdown",
   "metadata": {},
   "source": [
    "## Problem 1"
   ]
  },
  {
   "cell_type": "markdown",
   "metadata": {},
   "source": [
    "Read in data"
   ]
  },
  {
   "cell_type": "code",
   "execution_count": 3,
   "metadata": {
    "collapsed": false
   },
   "outputs": [],
   "source": [
    "tbdata = ascii.read(os.path.join(data_dir, 'lx_t.dat'), \n",
    "                    names = ['luminosity', 'temperature', 'error'])\n",
    "x = np.log10(tbdata['luminosity'])\n",
    "y = np.log10(tbdata['temperature'])\n",
    "error = np.sqrt(((1./(tbdata['temperature']*np.log(10)))*tbdata['error'])**2)"
   ]
  },
  {
   "cell_type": "markdown",
   "metadata": {},
   "source": [
    "### Part a"
   ]
  },
  {
   "cell_type": "markdown",
   "metadata": {},
   "source": [
    "Calculate alpha"
   ]
  },
  {
   "cell_type": "code",
   "execution_count": 4,
   "metadata": {
    "collapsed": false
   },
   "outputs": [
    {
     "name": "stdout",
     "output_type": "stream",
     "text": [
      "('alpha = \\n', matrix([[  1.54135531e+06,   6.86711369e+07],\n",
      "        [  6.86711369e+07,   3.06058359e+09]]))\n"
     ]
    }
   ],
   "source": [
    "f = [1., x]\n",
    "alpha = np.matrix(np.empty((2,2)))\n",
    "alpha[0,0] = np.sum((1./error**2)*f[0]*f[0])\n",
    "alpha[0,1] = np.sum((1./error**2)*f[0]*f[1])\n",
    "alpha[1,0] = np.sum((1./error**2)*f[1]*f[0])\n",
    "alpha[1,1] = np.sum((1./error**2)*f[1]*f[1])\n",
    "print('alpha = \\n', alpha)"
   ]
  },
  {
   "cell_type": "markdown",
   "metadata": {},
   "source": [
    "Calculate beta"
   ]
  },
  {
   "cell_type": "code",
   "execution_count": 5,
   "metadata": {
    "collapsed": false
   },
   "outputs": [
    {
     "name": "stdout",
     "output_type": "stream",
     "text": [
      "('beta = \\n', matrix([[   869914.47997512],\n",
      "        [ 39055278.28353415]]))\n"
     ]
    }
   ],
   "source": [
    "beta = np.matrix(np.empty((2, 1)))\n",
    "beta[0] = np.sum((y*f[0])/(error**2))\n",
    "beta[1] = np.sum((y*f[1])/(error**2))\n",
    "print('beta = \\n', beta)"
   ]
  },
  {
   "cell_type": "markdown",
   "metadata": {},
   "source": [
    "Invert alpha"
   ]
  },
  {
   "cell_type": "code",
   "execution_count": 6,
   "metadata": {
    "collapsed": true
   },
   "outputs": [],
   "source": [
    "alpha_inv = np.linalg.inv(alpha)"
   ]
  },
  {
   "cell_type": "markdown",
   "metadata": {},
   "source": [
    "Calc best fit parameters"
   ]
  },
  {
   "cell_type": "code",
   "execution_count": 7,
   "metadata": {
    "collapsed": false
   },
   "outputs": [
    {
     "name": "stdout",
     "output_type": "stream",
     "text": [
      "('intercept = ', matrix([[-11.34006114]]))\n",
      "('slope = ', matrix([[ 0.26720073]]))\n"
     ]
    }
   ],
   "source": [
    "a = alpha_inv*beta\n",
    "print('intercept = ', a[0])\n",
    "print('slope = ', a[1])"
   ]
  },
  {
   "cell_type": "code",
   "execution_count": 8,
   "metadata": {
    "collapsed": false
   },
   "outputs": [
    {
     "data": {
      "text/plain": [
       "array([  0.26720073, -11.34006114])"
      ]
     },
     "execution_count": 8,
     "metadata": {},
     "output_type": "execute_result"
    }
   ],
   "source": [
    "#Check answer\n",
    "np.polyfit(x, y, 1, w = 1./error)"
   ]
  },
  {
   "cell_type": "markdown",
   "metadata": {},
   "source": [
    "### Part b"
   ]
  },
  {
   "cell_type": "code",
   "execution_count": 9,
   "metadata": {
    "collapsed": false
   },
   "outputs": [
    {
     "name": "stdout",
     "output_type": "stream",
     "text": [
      "('chi square = ', 18464.181156302249)\n"
     ]
    }
   ],
   "source": [
    "ymod = np.polyval(np.array([a[1], a[0]]), x)\n",
    "chi_sq = np.sum(((y - ymod)/(error))**2)\n",
    "print('chi square = ', chi_sq)"
   ]
  },
  {
   "cell_type": "code",
   "execution_count": 10,
   "metadata": {
    "collapsed": false
   },
   "outputs": [
    {
     "name": "stdout",
     "output_type": "stream",
     "text": [
      "('reduced chi square', 68.133509801853322)\n"
     ]
    }
   ],
   "source": [
    "#DOF = num pts - num params - my notes say this but online says num pts - num params - 1\n",
    "reduced_chi = chi_sq/(len(tbdata) - 2.)\n",
    "print('reduced chi square', reduced_chi)"
   ]
  },
  {
   "cell_type": "markdown",
   "metadata": {},
   "source": [
    "This is not a good fit b/c the reduced chi-square >> 1"
   ]
  },
  {
   "cell_type": "markdown",
   "metadata": {},
   "source": [
    "### Part c"
   ]
  },
  {
   "cell_type": "code",
   "execution_count": 11,
   "metadata": {
    "collapsed": true
   },
   "outputs": [],
   "source": [
    "def calc_lin_best_fit_params(x, y, error):\n",
    "    f = [1., x]\n",
    "    alpha = np.matrix(np.empty((2,2)))\n",
    "    alpha[0,0] = np.sum((1./error**2)*f[0]*f[0])\n",
    "    alpha[0,1] = np.sum((1./error**2)*f[0]*f[1])\n",
    "    alpha[1,0] = np.sum((1./error**2)*f[1]*f[0])\n",
    "    alpha[1,1] = np.sum((1./error**2)*f[1]*f[1])\n",
    "    beta = np.matrix(np.empty((2, 1)))\n",
    "    beta[0] = np.sum((y*f[0])/(error**2))\n",
    "    beta[1] = np.sum((y*f[1])/(error**2))\n",
    "    alpha_inv = np.linalg.inv(alpha)\n",
    "    a = alpha_inv*beta\n",
    "    return a"
   ]
  },
  {
   "cell_type": "code",
   "execution_count": 12,
   "metadata": {
    "collapsed": false
   },
   "outputs": [
    {
     "name": "stdout",
     "output_type": "stream",
     "text": [
      "1 sig error in zeropoint = 0.71\n",
      "1 sig error in slope = 0.02\n"
     ]
    }
   ],
   "source": [
    "x = np.log10(tbdata['luminosity'])\n",
    "y = np.log10(tbdata['temperature'])\n",
    "error = np.sqrt(((1./(tbdata['temperature']*np.log(10)))*tbdata['error'])**2)\n",
    "\n",
    "a0 = []\n",
    "a1 = []\n",
    "for interation in range(100000):\n",
    "    #Select N data points with replacement\n",
    "    indx = np.random.uniform(0, len(tbdata), size = len(tbdata))\n",
    "    indx = np.int_(indx)\n",
    "    #Calculate best fit parameters\n",
    "    a = calc_lin_best_fit_params(x[indx], y[indx], error[indx])\n",
    "    a0.append(a[0])\n",
    "    a1.append(a[1])\n",
    "a0 = np.array(a0)\n",
    "a1 = np.array(a1)\n",
    "error_a0 = a0.std()\n",
    "error_a1 = a1.std()\n",
    "print('1 sig error in zeropoint = {:.2f}'.format(error_a0))\n",
    "print('1 sig error in slope = {:.2f}'.format(error_a1))"
   ]
  },
  {
   "cell_type": "markdown",
   "metadata": {},
   "source": [
    "### Part D"
   ]
  },
  {
   "cell_type": "code",
   "execution_count": 13,
   "metadata": {
    "collapsed": false
   },
   "outputs": [
    {
     "name": "stdout",
     "output_type": "stream",
     "text": [
      "jackknife estimate of intercept = -11.37\n",
      "jackknife estimate of slope = 0.27\n"
     ]
    }
   ],
   "source": [
    "x = np.log10(tbdata['luminosity'])\n",
    "y = np.log10(tbdata['temperature'])\n",
    "error = np.sqrt(((1./(tbdata['temperature']*np.log(10)))*tbdata['error'])**2)\n",
    "npts = len(tbdata)\n",
    "\n",
    "a = calc_lin_best_fit_params(x, y, error)\n",
    "\n",
    "a0_partial = []\n",
    "a1_partial = []\n",
    "for j in range(npts):\n",
    "    mask = np.bool_(np.ones(npts,))\n",
    "    mask[j] = False\n",
    "    #Calculate best fit parameters\n",
    "    aj = calc_lin_best_fit_params(x[mask], y[mask], error[mask])\n",
    "    a0_partial.append(aj[0])\n",
    "    a1_partial.append(aj[1])\n",
    "a0_partial = np.array(a0_partial)\n",
    "a1_partial = np.array(a1_partial)\n",
    "a0_psuedo = npts*a[0,0].flatten() - (npts - 1.)*a0_partial\n",
    "a1_psuedo = npts*a[1,0].flatten() - (npts - 1.)*a1_partial\n",
    "\n",
    "a0_jackknife = 1./npts * a0_psuedo.sum()\n",
    "a1_jackknife = 1./npts * a1_psuedo.sum()\n",
    "\n",
    "print('jackknife estimate of intercept = {:.2f}'.format(a0_jackknife))\n",
    "print('jackknife estimate of slope = {:.2f}'.format(a1_jackknife))"
   ]
  },
  {
   "cell_type": "markdown",
   "metadata": {},
   "source": [
    "# Problem 2"
   ]
  },
  {
   "cell_type": "code",
   "execution_count": 14,
   "metadata": {
    "collapsed": false
   },
   "outputs": [],
   "source": [
    "a0 =  -27.61096136  #intercept\n",
    "a1 =  0.37077094 #slope\n",
    "sigma_a0 = 1.44424598843\n",
    "sigma_a1 = 0.0258325312691\n",
    "\n",
    "a0_terms = np.linspace(a0-4*sigma_a0, a0+4*sigma_a0, 100.)\n",
    "a1_terms = np.linspace(a1-4*sigma_a1, a1+4*sigma_a1, 99)\n",
    "grid = np.empty((100, 99, 2))\n",
    "for i, ia0 in enumerate(a0_terms):\n",
    "    for j, ia1 in enumerate(a1_terms):\n",
    "        grid[i,j, 0] = ia0\n",
    "        grid[i, j, 1] = ia1\n",
    "        \n",
    "#Alternately if the note on meshgrid had been in the preamble to the problem\n",
    "xx, yy = np.meshgrid(a0_terms, a1_terms)"
   ]
  },
  {
   "cell_type": "markdown",
   "metadata": {},
   "source": [
    "Read in the data "
   ]
  },
  {
   "cell_type": "code",
   "execution_count": 15,
   "metadata": {
    "collapsed": false
   },
   "outputs": [],
   "source": [
    "tbdata = ascii.read(os.path.join(data_dir, 'xy_fitting.txt'), names = ['x', 'y'])\n",
    "y_err = np.ones(len(tbdata))*5\n",
    "tbdata.add_column(Column(y_err, name = 'sigma'))"
   ]
  },
  {
   "cell_type": "markdown",
   "metadata": {},
   "source": [
    "## Part a"
   ]
  },
  {
   "cell_type": "markdown",
   "metadata": {},
   "source": [
    "Calculate chi square"
   ]
  },
  {
   "cell_type": "code",
   "execution_count": 16,
   "metadata": {
    "collapsed": false
   },
   "outputs": [],
   "source": [
    "#I couldn't figure out how to do this without a loop but I'm sure there's a way\n",
    "#Given more time I would at least loop over the data rather than the grid and then sum for the chi-square\n",
    "chi_sq = np.empty(grid[:,:,0].shape)\n",
    "for i in range(100):\n",
    "    for j in range(99):\n",
    "        ymod = grid[i, j, 0] + grid[i, j, 1]*tbdata['x']\n",
    "        chi_sq[i,j] = (((tbdata['y'] - ymod)/tbdata['sigma'])**2).sum()"
   ]
  },
  {
   "cell_type": "markdown",
   "metadata": {},
   "source": [
    "Calculate $\\Delta\\chi^{2}$ using value from last week"
   ]
  },
  {
   "cell_type": "code",
   "execution_count": 17,
   "metadata": {
    "collapsed": true
   },
   "outputs": [],
   "source": [
    "hw4_chi_sq = 55.7842090928\n",
    "delta_chi_sq = chi_sq - hw4_chi_sq"
   ]
  },
  {
   "cell_type": "markdown",
   "metadata": {},
   "source": [
    "Make contour plot"
   ]
  },
  {
   "cell_type": "code",
   "execution_count": 18,
   "metadata": {
    "collapsed": false
   },
   "outputs": [
    {
     "data": {
      "text/plain": [
       "<matplotlib.text.Text at 0x108e24e50>"
      ]
     },
     "execution_count": 18,
     "metadata": {},
     "output_type": "execute_result"
    },
    {
     "name": "stderr",
     "output_type": "stream",
     "text": [
      "/Users/abostroem/anaconda/lib/python2.7/site-packages/matplotlib/text.py:52: UnicodeWarning: Unicode equal comparison failed to convert both arguments to Unicode - interpreting them as being unequal\n",
      "  if rotation in ('horizontal', None):\n",
      "/Users/abostroem/anaconda/lib/python2.7/site-packages/matplotlib/text.py:54: UnicodeWarning: Unicode equal comparison failed to convert both arguments to Unicode - interpreting them as being unequal\n",
      "  elif rotation == 'vertical':\n"
     ]
    },
    {
     "data": {
      "image/png": "[encoded data removed]",
      "text/plain": [
       "<matplotlib.figure.Figure at 0x108cdbc10>"
      ]
     },
     "metadata": {},
     "output_type": "display_data"
    }
   ],
   "source": [
    "c = pyplot.contour(a1_terms, a0_terms, delta_chi_sq, [2.3, 6.18])\n",
    "pyplot.clabel(c)\n",
    "pyplot.xlabel('a1 (slope)')\n",
    "pyplot.ylabel('a0 (intercept)')\n",
    "pyplot.title('$\\Delta\\chi^{2}$ Contours')"
   ]
  },
  {
   "cell_type": "markdown",
   "metadata": {},
   "source": [
    "The contours of constant $\\Delta\\chi^{2}$ can be interpreted as confidence limits. 2.3 corresponds to 68% confidence given a function with 2 free parameters and 6.18 represents 95.4% confidence given a function with 2 free parameters\n"
   ]
  },
  {
   "cell_type": "markdown",
   "metadata": {},
   "source": [
    "## Part b"
   ]
  },
  {
   "cell_type": "markdown",
   "metadata": {},
   "source": [
    "priors:\n",
    "* assume a0 is uniformly distributed between [a0-4$\\sigma$, a0+4$\\sigma$]\n",
    "* assume a1 is uniformly distributed between [a1-4$\\sigma$, a1+4$\\sigma$]\n",
    "* assume a gaussian distribution for errors"
   ]
  },
  {
   "cell_type": "code",
   "execution_count": 19,
   "metadata": {
    "collapsed": false
   },
   "outputs": [],
   "source": [
    "def calc_posterior_probability(tbdata, ia0, ia1):\n",
    "    #Create the model\n",
    "    ymod = ia0+ia1*tbdata['x']\n",
    "    #Calculate the likelihood\n",
    "    likelihood = np.product(1./(np.sqrt(2.*np.pi)*tbdata['sigma']) * \\\n",
    "                            np.exp(-(tbdata['y'] - ymod)**2/(2.*(tbdata['sigma'])**2)))\n",
    "    #calculate the pixel size (d_a0*d_a1) or probability of model assuming a uniform distribution\n",
    "    d_a0 = (a0_terms[-1]-a0_terms[0])/a0_terms.size\n",
    "    d_a1 = (a1_terms[-1] - a1_terms[0])/a1_terms.size\n",
    "    #Calculate the posterior probability\n",
    "    posterior_prob = likelihood*d_a0*d_a1\n",
    "    return posterior_prob"
   ]
  },
  {
   "cell_type": "markdown",
   "metadata": {},
   "source": [
    "Calculate the posterior (unnormalized) for each point in model"
   ]
  },
  {
   "cell_type": "code",
   "execution_count": 20,
   "metadata": {
    "collapsed": false
   },
   "outputs": [],
   "source": [
    "posterior = np.empty(grid[:,:,0].shape)\n",
    "for i in range(100):\n",
    "    for j in range(99):\n",
    "        posterior[i,j]= calc_posterior_probability(tbdata, grid[i, j, 0], grid[i, j, 1])"
   ]
  },
  {
   "cell_type": "markdown",
   "metadata": {},
   "source": [
    "Normalize the posterior to a posterior probability by summing the P(data|model) over all models"
   ]
  },
  {
   "cell_type": "code",
   "execution_count": 21,
   "metadata": {
    "collapsed": false
   },
   "outputs": [],
   "source": [
    "prob_data = np.sum(posterior.flatten())\n",
    "posterior_prob = posterior/prob_data"
   ]
  },
  {
   "cell_type": "markdown",
   "metadata": {},
   "source": [
    "Determine the probabilities corresponding to 68% confidence and 95.4% confidence. Note this has to be done with a CDF and can't simple be calculated as a percent of points"
   ]
  },
  {
   "cell_type": "code",
   "execution_count": 22,
   "metadata": {
    "collapsed": false
   },
   "outputs": [
    {
     "name": "stdout",
     "output_type": "stream",
     "text": [
      "68% confidence = 0.000678467300487\n",
      "95.4% confidence = 9.70515218196e-05\n"
     ]
    }
   ],
   "source": [
    "sorted_posterior_prob = np.sort(posterior_prob.flatten())\n",
    "cdf_grid = np.cumsum(sorted_posterior_prob)\n",
    "one_sig = sorted_posterior_prob[cdf_grid < 0.32][-1]\n",
    "two_sig = sorted_posterior_prob[cdf_grid < 0.046][-1]\n",
    "print('68% confidence = {}'.format(one_sig))\n",
    "print('95.4% confidence = {}'.format(two_sig))"
   ]
  },
  {
   "cell_type": "markdown",
   "metadata": {},
   "source": [
    "Make a contour plot of these confidence limits"
   ]
  },
  {
   "cell_type": "code",
   "execution_count": 23,
   "metadata": {
    "collapsed": false
   },
   "outputs": [
    {
     "data": {
      "text/plain": [
       "<a list of 2 text.Text objects>"
      ]
     },
     "execution_count": 23,
     "metadata": {},
     "output_type": "execute_result"
    },
    {
     "data": {
      "image/png": "[encoded data removed]",
      "text/plain": [
       "<matplotlib.figure.Figure at 0x10d4ddf50>"
      ]
     },
     "metadata": {},
     "output_type": "display_data"
    }
   ],
   "source": [
    "c = pyplot.contour(a1_terms, a0_terms, posterior_prob, [one_sig, two_sig])\n",
    "pyplot.xlabel('a1 (slope)')\n",
    "pyplot.ylabel('a0 (intercept)')\n",
    "pyplot.title('Posterior Probability Contours')\n",
    "pyplot.clabel(c)"
   ]
  },
  {
   "cell_type": "markdown",
   "metadata": {},
   "source": [
    "This plot looks pretty similar to the one in part a"
   ]
  },
  {
   "cell_type": "markdown",
   "metadata": {},
   "source": [
    "# Problem 3"
   ]
  },
  {
   "cell_type": "markdown",
   "metadata": {},
   "source": [
    "## Part a"
   ]
  },
  {
   "cell_type": "markdown",
   "metadata": {},
   "source": [
    "Find the projection of $\\Delta\\chi^{2}$ onto a0"
   ]
  },
  {
   "cell_type": "code",
   "execution_count": 24,
   "metadata": {
    "collapsed": false
   },
   "outputs": [
    {
     "data": {
      "text/plain": [
       "[<matplotlib.lines.Line2D at 0x110707d10>]"
      ]
     },
     "execution_count": 24,
     "metadata": {},
     "output_type": "execute_result"
    },
    {
     "data": {
      "image/png": "[encoded data removed]",
      "text/plain": [
       "<matplotlib.figure.Figure at 0x10d4ea1d0>"
      ]
     },
     "metadata": {},
     "output_type": "display_data"
    }
   ],
   "source": [
    "#Find the best fit a1\n",
    "min_delta_chi_sq_a0 = delta_chi_sq.min(axis = 1)\n",
    "pyplot.plot(a0_terms, min_delta_chi_sq_a0)"
   ]
  },
  {
   "cell_type": "markdown",
   "metadata": {},
   "source": [
    "Evaluate confidence limits for $\\Delta\\chi^{2} \\le 1 $ for a0 (intercept)"
   ]
  },
  {
   "cell_type": "code",
   "execution_count": 25,
   "metadata": {
    "collapsed": false
   },
   "outputs": [
    {
     "name": "stdout",
     "output_type": "stream",
     "text": [
      "confidence limits for a0 = [-28.95, -26.27]\n",
      "a0 = -27.553 +/- 1.342\n",
      "from linear fit last week: a0 = -27.611 +/- 1.444\n"
     ]
    }
   ],
   "source": [
    "chi_sq_less_than_1_a0 = min_delta_chi_sq_a0 <= 1\n",
    "print('confidence limits for a0 = [{:.2f}, {:.2f}]'.format(a0_terms[chi_sq_less_than_1_a0][0], \n",
    "                                                           a0_terms[chi_sq_less_than_1_a0][-1]))\n",
    "print('a0 = {:.3f} +/- {:.3f}'.format(a0_terms[np.argmin(min_delta_chi_sq_a0)], \n",
    "                                              (a0_terms[chi_sq_less_than_1_a0][-1] - a0_terms[chi_sq_less_than_1_a0][0])/2))\n",
    "\n",
    "print('from linear fit last week: a0 = {:.3f} +/- {:.3f}'.format(-27.61096136, 1.44424598843))"
   ]
  },
  {
   "cell_type": "markdown",
   "metadata": {},
   "source": [
    "Find the projection of $\\Delta\\chi^{2}$ onto a1"
   ]
  },
  {
   "cell_type": "code",
   "execution_count": 26,
   "metadata": {
    "collapsed": false
   },
   "outputs": [
    {
     "data": {
      "text/plain": [
       "[<matplotlib.lines.Line2D at 0x1109d1b10>]"
      ]
     },
     "execution_count": 26,
     "metadata": {},
     "output_type": "execute_result"
    },
    {
     "data": {
      "image/png": "[encoded data removed]",
      "text/plain": [
       "<matplotlib.figure.Figure at 0x110811090>"
      ]
     },
     "metadata": {},
     "output_type": "display_data"
    }
   ],
   "source": [
    "#Find the best fit a0\n",
    "min_delta_chi_sq_a1 = delta_chi_sq.min(axis = 0)\n",
    "pyplot.plot(a1_terms, min_delta_chi_sq_a1)"
   ]
  },
  {
   "cell_type": "markdown",
   "metadata": {},
   "source": [
    "Find confidence limits corresponding to $\\Delta\\chi^{2} \\le 1 $ for a1 (slope)"
   ]
  },
  {
   "cell_type": "code",
   "execution_count": 27,
   "metadata": {
    "collapsed": false
   },
   "outputs": [
    {
     "name": "stdout",
     "output_type": "stream",
     "text": [
      "confidence limits for a1 = [0.35, 0.40]\n",
      "a1 = 0.371 +/- 0.025\n",
      "From linear fit last week: a1 = 0.371 +/- 0.026\n"
     ]
    }
   ],
   "source": [
    "chi_sq_less_than_1_a1 = min_delta_chi_sq_a1 <= 1\n",
    "print('confidence limits for a1 = [{:.2f}, {:.2f}]'.format(a1_terms[chi_sq_less_than_1_a1][0], \n",
    "                                                           a1_terms[chi_sq_less_than_1_a1][-1]))\n",
    "\n",
    "print('a1 = {:.3f} +/- {:.3f}'.format(a1_terms[np.argmin(min_delta_chi_sq_a1)], \n",
    "                                              (a1_terms[chi_sq_less_than_1_a1][-1] - a1_terms[chi_sq_less_than_1_a1][0])/2))\n",
    "print('From linear fit last week: a1 = {:.3f} +/- {:.3f}'.format(0.37077094, 0.0258325312691))"
   ]
  },
  {
   "cell_type": "markdown",
   "metadata": {},
   "source": [
    "The value is a little different for intercept and the error is less for the delta chi square method than the linear fit method. The value and error are very close for the slope parameter."
   ]
  },
  {
   "cell_type": "markdown",
   "metadata": {},
   "source": [
    "## Part b"
   ]
  },
  {
   "cell_type": "markdown",
   "metadata": {},
   "source": [
    "Find the marginalized probability for a0 and plot it"
   ]
  },
  {
   "cell_type": "code",
   "execution_count": 28,
   "metadata": {
    "collapsed": false
   },
   "outputs": [
    {
     "data": {
      "text/plain": [
       "<matplotlib.text.Text at 0x10f61d7d0>"
      ]
     },
     "execution_count": 28,
     "metadata": {},
     "output_type": "execute_result"
    },
    {
     "data": {
      "image/png": "[encoded data removed]",
      "text/plain": [
       "<matplotlib.figure.Figure at 0x1108d22d0>"
      ]
     },
     "metadata": {},
     "output_type": "display_data"
    }
   ],
   "source": [
    "marginal_a0 = np.sum(posterior_prob, axis = 1)\n",
    "pyplot.plot(a0_terms, marginal_a0)\n",
    "pyplot.xlabel('a0 (intercept)')\n",
    "pyplot.ylabel('Marginalized Probaility')\n",
    "pyplot.title('Marginalized Probaility for Intercept')"
   ]
  },
  {
   "cell_type": "markdown",
   "metadata": {},
   "source": [
    "Find the marginalized probability for a1 and plot it"
   ]
  },
  {
   "cell_type": "code",
   "execution_count": 29,
   "metadata": {
    "collapsed": false
   },
   "outputs": [
    {
     "data": {
      "text/plain": [
       "<matplotlib.text.Text at 0x10ff6d3d0>"
      ]
     },
     "execution_count": 29,
     "metadata": {},
     "output_type": "execute_result"
    },
    {
     "data": {
      "image/png": "[encoded data removed]",
      "text/plain": [
       "<matplotlib.figure.Figure at 0x1100eafd0>"
      ]
     },
     "metadata": {},
     "output_type": "display_data"
    }
   ],
   "source": [
    "marginal_a1 = np.sum(posterior_prob, axis = 0)\n",
    "pyplot.plot(a1_terms, marginal_a1)\n",
    "pyplot.xlabel('a1 (slope)')\n",
    "pyplot.ylabel('Marginalized Probaility')\n",
    "pyplot.title('Marginalized Probaility for Slope')"
   ]
  },
  {
   "cell_type": "markdown",
   "metadata": {},
   "source": [
    "Determine the 68% confidence regions"
   ]
  },
  {
   "cell_type": "code",
   "execution_count": 30,
   "metadata": {
    "collapsed": false
   },
   "outputs": [
    {
     "name": "stdout",
     "output_type": "stream",
     "text": [
      "a0 = -27.669 +/- 1.517\n"
     ]
    }
   ],
   "source": [
    "cdf_a0 = np.cumsum(marginal_a0)\n",
    "#Assumes a symmetric PDF\n",
    "one_sig_a0 = a0_terms[np.argmax(marginal_a0)] - a0_terms[np.array(cdf_a0)<0.16][-1]\n",
    "\n",
    "print('a0 = {:.3f} +/- {:.3f}'.format(a0_terms[np.argmax(marginal_a0)],one_sig_a0))"
   ]
  },
  {
   "cell_type": "code",
   "execution_count": 31,
   "metadata": {
    "collapsed": false
   },
   "outputs": [
    {
     "name": "stdout",
     "output_type": "stream",
     "text": [
      "a1 = 0.371 +/- 0.027\n"
     ]
    }
   ],
   "source": [
    "cdf_a1 = np.cumsum(marginal_a1)\n",
    "#Assumes a symmetric PDF\n",
    "one_sig_a1 = a1_terms[np.argmax(marginal_a1)] - a1_terms[np.array(cdf_a1)<0.16][-1]\n",
    "\n",
    "print('a1 = {:.3f} +/- {:.3f}'.format(a1_terms[np.argmax(marginal_a1)],one_sig_a1))"
   ]
  },
  {
   "cell_type": "code",
   "execution_count": null,
   "metadata": {
    "collapsed": true
   },
   "outputs": [],
   "source": []
  }
 ],
 "metadata": {
  "kernelspec": {
   "display_name": "Python 2",
   "language": "python",
   "name": "python2"
  },
  "language_info": {
   "codemirror_mode": {
    "name": "ipython",
    "version": 2
   },
   "file_extension": ".py",
   "mimetype": "text/x-python",
   "name": "python",
   "nbconvert_exporter": "python",
   "pygments_lexer": "ipython2",
   "version": "2.7.10"
  }
 },
 "nbformat": 4,
 "nbformat_minor": 0
}
